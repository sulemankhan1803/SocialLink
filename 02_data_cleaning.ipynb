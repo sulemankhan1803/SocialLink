{
 "cells": [
  {
   "cell_type": "code",
   "execution_count": 2,
   "id": "15ac16ea-cb19-4d1c-8bec-3f8004110e14",
   "metadata": {},
   "outputs": [],
   "source": [
    "import json"
   ]
  },
  {
   "cell_type": "code",
   "execution_count": 3,
   "id": "fd11ec12-0c6a-4f48-8243-8e50389593d4",
   "metadata": {},
   "outputs": [
    {
     "name": "stdout",
     "output_type": "stream",
     "text": [
      "Data cleaned successfully\n"
     ]
    }
   ],
   "source": [
    "def clean_data(data):\n",
    "    # Remove user with missing name\n",
    "    data[\"users\"] = [user for user in data[\"users\"] if user['name'].strip()]\n",
    "\n",
    "    # Remove duplicate friends\n",
    "    for user in data[\"users\"]:\n",
    "        user['friends'] = list(set(user['friends']))\n",
    "\n",
    "    # Remove inactive user\n",
    "    data[\"users\"] = [user for user in data[\"users\"] if(user['friends']) or user['liked_pages']]\n",
    "\n",
    "    # Remove dupplicate pages\n",
    "    unique_pages = {}\n",
    "    for page in data[\"pages\"]:\n",
    "        unique_pages[page[\"id\"]] = page\n",
    "    data[\"pages\"] = list(unique_pages.values())\n",
    "    return data    \n",
    "    \n",
    "data = json.load(open(\"data2.json\"))\n",
    "data = clean_data(data)\n",
    "json.dump(data, open(\"cleaned_data2.json\",\"w\"),indent=4)\n",
    "print(\"Data cleaned successfully\")"
   ]
  },
  {
   "cell_type": "code",
   "execution_count": null,
   "id": "40eda2aa-6452-4c66-adbb-7f4258016816",
   "metadata": {},
   "outputs": [],
   "source": []
  }
 ],
 "metadata": {
  "kernelspec": {
   "display_name": "Python [conda env:base] *",
   "language": "python",
   "name": "conda-base-py"
  },
  "language_info": {
   "codemirror_mode": {
    "name": "ipython",
    "version": 3
   },
   "file_extension": ".py",
   "mimetype": "text/x-python",
   "name": "python",
   "nbconvert_exporter": "python",
   "pygments_lexer": "ipython3",
   "version": "3.12.7"
  }
 },
 "nbformat": 4,
 "nbformat_minor": 5
}
