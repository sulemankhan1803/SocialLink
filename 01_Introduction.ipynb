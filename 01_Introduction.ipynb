{
 "cells": [
  {
   "cell_type": "code",
   "execution_count": 1,
   "id": "d89a47d7-ed87-4046-a707-e6f28ef519b5",
   "metadata": {},
   "outputs": [],
   "source": [
    "import json"
   ]
  },
  {
   "cell_type": "code",
   "execution_count": 2,
   "id": "a5a86f85-556f-4642-96d9-bb67f8229ee1",
   "metadata": {},
   "outputs": [],
   "source": [
    "# Load the data\n",
    "def load_data(filename):\n",
    "    with open(filename, 'r') as file:\n",
    "        data = json.load(file)\n",
    "    return data"
   ]
  },
  {
   "cell_type": "code",
   "execution_count": 3,
   "id": "686eb7c0-af04-48fc-a05d-dabb91560560",
   "metadata": {},
   "outputs": [],
   "source": [
    "# Display users and their connection\n",
    "def display_user(data):\n",
    "    print(\"Users and Their Connections:\\n\")\n",
    "    for user in data['users']:\n",
    "        print(f\"Id: {user['id']} - {user['name']} is friends with: {user['friends']} and liked pages are:{user['liked_pages']}\")\n",
    "    print(\"\\nPages:\\n\")\n",
    "    for page in data['pages']:\n",
    "        print(f\"{page['id']}: {page['name']}\")"
   ]
  },
  {
   "cell_type": "code",
   "execution_count": 4,
   "id": "ee8415b2-af09-47e8-a581-94abd20d5c60",
   "metadata": {},
   "outputs": [
    {
     "name": "stdout",
     "output_type": "stream",
     "text": [
      "Users and Their Connections:\n",
      "\n",
      "Id: 1 - Amit is friends with: [2, 3] and liked pages are:[101]\n",
      "Id: 2 - Priya is friends with: [1, 4] and liked pages are:[102]\n",
      "Id: 3 - Rahul is friends with: [1] and liked pages are:[101, 103]\n",
      "Id: 4 - Sara is friends with: [2] and liked pages are:[104]\n",
      "\n",
      "Pages:\n",
      "\n",
      "101: Python Developers\n",
      "102: Data Science Enthusiasts\n",
      "103: AI & ML Community\n",
      "104: Web Dev Hub\n"
     ]
    }
   ],
   "source": [
    "data = load_data(\"data.json\")\n",
    "display_user(data)"
   ]
  },
  {
   "cell_type": "code",
   "execution_count": null,
   "id": "fde2e78c-0441-48fd-b435-099551bf6fc7",
   "metadata": {},
   "outputs": [],
   "source": []
  }
 ],
 "metadata": {
  "kernelspec": {
   "display_name": "Python [conda env:base] *",
   "language": "python",
   "name": "conda-base-py"
  },
  "language_info": {
   "codemirror_mode": {
    "name": "ipython",
    "version": 3
   },
   "file_extension": ".py",
   "mimetype": "text/x-python",
   "name": "python",
   "nbconvert_exporter": "python",
   "pygments_lexer": "ipython3",
   "version": "3.12.7"
  }
 },
 "nbformat": 4,
 "nbformat_minor": 5
}
